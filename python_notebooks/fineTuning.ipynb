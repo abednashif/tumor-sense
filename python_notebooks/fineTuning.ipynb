{
 "cells": [
  {
   "cell_type": "code",
   "id": "initial_id",
   "metadata": {
    "collapsed": true,
    "ExecuteTime": {
     "end_time": "2024-04-15T13:06:09.048421Z",
     "start_time": "2024-04-15T13:06:04.870095Z"
    }
   },
   "source": [
    "import numpy as np\n",
    "import os\n",
    "os.environ['TF_CPP_MIN_LOG_LEVEL'] = '2'\n",
    "import matplotlib.pyplot as plt\n",
    "from sklearn.metrics import confusion_matrix\n",
    "import seaborn as sns\n",
    "import tensorflow as tf\n",
    "from tensorflow.keras import layers, models\n",
    "from tensorflow.keras.models import Model, load_model\n",
    "from tensorflow.keras.preprocessing.image import ImageDataGenerator, load_img, img_to_array\n",
    "from tensorflow.keras.layers import Dense\n",
    "from tensorflow.keras.optimizers import Adam\n",
    "from tensorflow.keras.models import Sequential"
   ],
   "outputs": [],
   "execution_count": 1
  },
  {
   "metadata": {
    "ExecuteTime": {
     "end_time": "2024-04-15T13:06:10.136071Z",
     "start_time": "2024-04-15T13:06:09.049463Z"
    }
   },
   "cell_type": "code",
   "source": "pre_fine_tuning = load_model(\"../TumorSense_app/model.h5\")",
   "id": "a160f2c0dae6ae47",
   "outputs": [],
   "execution_count": 2
  },
  {
   "metadata": {
    "ExecuteTime": {
     "end_time": "2024-04-15T13:06:10.141210Z",
     "start_time": "2024-04-15T13:06:10.138012Z"
    }
   },
   "cell_type": "code",
   "source": "index = ['glioma','meningioma','normal','adenoma']",
   "id": "cfc27bfc06cef7f0",
   "outputs": [],
   "execution_count": 3
  },
  {
   "metadata": {},
   "cell_type": "markdown",
   "source": "### fine tune model",
   "id": "a6ee85a379aff74"
  },
  {
   "metadata": {
    "ExecuteTime": {
     "end_time": "2024-04-15T13:06:10.894911Z",
     "start_time": "2024-04-15T13:06:10.142639Z"
    }
   },
   "cell_type": "code",
   "source": [
    "\n",
    "dataset_dir = '../../Datasets/brain/Training'\n",
    "\n",
    "model = load_model('../TumorSense_app/model.h5')\n",
    "num_classes = len(index)\n",
    "\n",
    "x = model.layers[-2].output\n",
    "x = Dense(1024, activation='relu', name='new_dense_1')(x)\n",
    "predictions = Dense(num_classes, activation='softmax', name='new_dense_2')(x)\n",
    "\n",
    "fine_tuned_model = Model(inputs=model.input, outputs=predictions)\n",
    "\n",
    "for layer in fine_tuned_model.layers[:-5]:\n",
    "    layer.trainable = False\n",
    "\n",
    "fine_tuned_model.compile(optimizer=Adam(), loss='categorical_crossentropy', metrics=['accuracy'])\n",
    "\n",
    "test_datagen = ImageDataGenerator(rescale=1./255)\n",
    "test_generator = test_datagen.flow_from_directory(\n",
    "    dataset_dir,\n",
    "    target_size=(224, 224),\n",
    "    batch_size=32,\n",
    "    class_mode='categorical',\n",
    "    shuffle=False\n",
    ")\n"
   ],
   "id": "6f483e405b9e2b69",
   "outputs": [
    {
     "name": "stdout",
     "output_type": "stream",
     "text": [
      "Found 2870 images belonging to 4 classes.\n"
     ]
    }
   ],
   "execution_count": 4
  },
  {
   "metadata": {
    "ExecuteTime": {
     "end_time": "2024-04-15T13:08:05.564993Z",
     "start_time": "2024-04-15T13:06:10.896856Z"
    }
   },
   "cell_type": "code",
   "source": [
    "history = fine_tuned_model.fit(test_generator, epochs=10)\n",
    "\n",
    "test_loss, test_acc = fine_tuned_model.evaluate(test_generator)\n",
    "print('Test accuracy:', test_acc)"
   ],
   "id": "60931bf21e9f7777",
   "outputs": [
    {
     "name": "stdout",
     "output_type": "stream",
     "text": [
      "Epoch 1/10\n"
     ]
    },
    {
     "name": "stderr",
     "output_type": "stream",
     "text": [
      "2024-04-15 16:06:11.987392: E tensorflow/core/grappler/optimizers/meta_optimizer.cc:954] model_pruner failed: INVALID_ARGUMENT: Graph does not contain terminal node AssignAddVariableOp_10.\n"
     ]
    },
    {
     "name": "stdout",
     "output_type": "stream",
     "text": [
      "90/90 [==============================] - 12s 119ms/step - loss: 1.6208 - accuracy: 0.7753\n",
      "Epoch 2/10\n",
      "90/90 [==============================] - 10s 116ms/step - loss: 0.5878 - accuracy: 0.8895\n",
      "Epoch 3/10\n",
      "90/90 [==============================] - 10s 112ms/step - loss: 0.5506 - accuracy: 0.9254\n",
      "Epoch 4/10\n",
      "90/90 [==============================] - 10s 114ms/step - loss: 0.7787 - accuracy: 0.8944\n",
      "Epoch 5/10\n",
      "90/90 [==============================] - 10s 112ms/step - loss: 0.2056 - accuracy: 0.9575\n",
      "Epoch 6/10\n",
      "90/90 [==============================] - 10s 111ms/step - loss: 0.3445 - accuracy: 0.9693\n",
      "Epoch 7/10\n",
      "90/90 [==============================] - 10s 112ms/step - loss: 0.1508 - accuracy: 0.9808\n",
      "Epoch 8/10\n",
      "90/90 [==============================] - 10s 112ms/step - loss: 0.1216 - accuracy: 0.9787\n",
      "Epoch 9/10\n",
      "90/90 [==============================] - 10s 112ms/step - loss: 0.0459 - accuracy: 0.9885\n",
      "Epoch 10/10\n",
      "90/90 [==============================] - 10s 112ms/step - loss: 0.1502 - accuracy: 0.9718\n",
      "90/90 [==============================] - 10s 110ms/step - loss: 0.3850 - accuracy: 0.9509\n",
      "Test accuracy: 0.9508710503578186\n"
     ]
    }
   ],
   "execution_count": 5
  },
  {
   "metadata": {
    "ExecuteTime": {
     "end_time": "2024-04-15T13:08:05.568699Z",
     "start_time": "2024-04-15T13:08:05.566459Z"
    }
   },
   "cell_type": "code",
   "source": "# fine_tuned_model.save('../TumorSense_app/fine_tuned_model.h5')",
   "id": "8942a33a2932e1be",
   "outputs": [],
   "execution_count": 6
  }
 ],
 "metadata": {
  "kernelspec": {
   "display_name": "Python 3",
   "language": "python",
   "name": "python3"
  },
  "language_info": {
   "codemirror_mode": {
    "name": "ipython",
    "version": 2
   },
   "file_extension": ".py",
   "mimetype": "text/x-python",
   "name": "python",
   "nbconvert_exporter": "python",
   "pygments_lexer": "ipython2",
   "version": "2.7.6"
  }
 },
 "nbformat": 4,
 "nbformat_minor": 5
}
