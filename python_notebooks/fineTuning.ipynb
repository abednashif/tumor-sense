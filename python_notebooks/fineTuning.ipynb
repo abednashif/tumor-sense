{
 "cells": [
  {
   "cell_type": "code",
   "execution_count": null,
   "id": "initial_id",
   "metadata": {
    "collapsed": true
   },
   "outputs": [],
   "source": [
    "import numpy as np\n",
    "import os\n",
    "import matplotlib.pyplot as plt\n",
    "from sklearn.metrics import confusion_matrix\n",
    "import seaborn as sns\n",
    "import tensorflow as tf\n",
    "from tensorflow.keras import layers, models\n",
    "from tensorflow.keras.models import Model, load_model\n",
    "from tensorflow.keras.preprocessing.image import ImageDataGenerator, load_img, img_to_array\n",
    "from tensorflow.keras.layers import Dense\n",
    "from tensorflow.keras.optimizers import Adam\n",
    "from tensorflow.keras.models import Sequential"
   ]
  },
  {
   "metadata": {},
   "cell_type": "code",
   "outputs": [],
   "execution_count": null,
   "source": "pre_fine_tuning = load_model(\"../TumorSense_app/model.h5\")",
   "id": "a160f2c0dae6ae47"
  },
  {
   "metadata": {},
   "cell_type": "code",
   "outputs": [],
   "execution_count": null,
   "source": "pro_fine_tuning = load_model(\"../TumorSense_app/model.h5\")",
   "id": "387f65380287eb3d"
  },
  {
   "metadata": {},
   "cell_type": "code",
   "outputs": [],
   "execution_count": null,
   "source": "index = ['glioma','meningioma','normal','adenoma']",
   "id": "cfc27bfc06cef7f0"
  },
  {
   "metadata": {},
   "cell_type": "markdown",
   "source": "### fine tune model",
   "id": "a6ee85a379aff74"
  },
  {
   "metadata": {},
   "cell_type": "code",
   "outputs": [],
   "execution_count": null,
   "source": [
    "\n",
    "dataset_dir = '../../Datasets/brain/Training'\n",
    "\n",
    "model = load_model('../TumorSense_app/model.h5')\n",
    "num_classes = len(index)\n",
    "\n",
    "x = model.layers[-2].output\n",
    "x = Dense(1024, activation='relu')(x)\n",
    "predictions = Dense(num_classes, activation='softmax')(x)\n",
    "\n",
    "fine_tuned_model = Model(inputs=model.input, outputs=predictions)\n",
    "\n",
    "for layer in fine_tuned_model.layers[:-5]:\n",
    "    layer.trainable = False\n",
    "\n",
    "fine_tuned_model.compile(optimizer=Adam(), loss='categorical_crossentropy', metrics=['accuracy'])\n",
    "\n",
    "test_datagen = ImageDataGenerator(rescale=1./255)\n",
    "test_generator = test_datagen.flow_from_directory(\n",
    "    dataset_dir,\n",
    "    target_size=(224, 224),\n",
    "    batch_size=32,\n",
    "    class_mode='categorical',\n",
    "    shuffle=False\n",
    ")\n"
   ],
   "id": "6f483e405b9e2b69"
  },
  {
   "metadata": {},
   "cell_type": "code",
   "outputs": [],
   "execution_count": null,
   "source": [
    "history = fine_tuned_model.fit(test_generator, epochs=10)\n",
    "\n",
    "test_loss, test_acc = fine_tuned_model.evaluate(test_generator)\n",
    "print('Test accuracy:', test_acc)"
   ],
   "id": "60931bf21e9f7777"
  },
  {
   "metadata": {},
   "cell_type": "code",
   "outputs": [],
   "execution_count": null,
   "source": "# fine_tuned_model.save('../TumorSense_app/fine_tuned_model.h5')",
   "id": "8942a33a2932e1be"
  }
 ],
 "metadata": {
  "kernelspec": {
   "display_name": "Python 3",
   "language": "python",
   "name": "python3"
  },
  "language_info": {
   "codemirror_mode": {
    "name": "ipython",
    "version": 2
   },
   "file_extension": ".py",
   "mimetype": "text/x-python",
   "name": "python",
   "nbconvert_exporter": "python",
   "pygments_lexer": "ipython2",
   "version": "2.7.6"
  }
 },
 "nbformat": 4,
 "nbformat_minor": 5
}
