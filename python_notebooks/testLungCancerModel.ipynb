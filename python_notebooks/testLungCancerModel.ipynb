{
 "cells": [
  {
   "cell_type": "code",
   "id": "initial_id",
   "metadata": {
    "collapsed": true,
    "ExecuteTime": {
     "end_time": "2024-04-16T18:43:51.009018Z",
     "start_time": "2024-04-16T18:43:46.158384Z"
    }
   },
   "source": [
    "import numpy as np\n",
    "import os\n",
    "os.environ['TF_CPP_MIN_LOG_LEVEL'] = '2'\n",
    "import matplotlib.pyplot as plt\n",
    "from sklearn.metrics import confusion_matrix\n",
    "import seaborn as sns\n",
    "import tensorflow as tf\n",
    "from tensorflow.keras import layers, models\n",
    "from tensorflow.keras.models import Model, load_model, Sequential\n",
    "from keras.preprocessing import image\n",
    "from tensorflow.keras.preprocessing.image import load_img, img_to_array, ImageDataGenerator, array_to_img\n",
    "from tensorflow.keras.layers import Dense, Dropout, BatchNormalization\n",
    "from tensorflow.keras.optimizers import Adamax\n",
    "from tensorflow.keras.applications import EfficientNetB5\n",
    "from tensorflow.keras.regularizers import l1, l2\n",
    "from keras.layers import Dense, Conv2D, Flatten "
   ],
   "outputs": [],
   "execution_count": 1
  },
  {
   "metadata": {
    "ExecuteTime": {
     "end_time": "2024-04-16T18:43:51.066646Z",
     "start_time": "2024-04-16T18:43:51.010574Z"
    }
   },
   "cell_type": "code",
   "source": [
    "train_data_gen = ImageDataGenerator(rescale=1./255,\n",
    "                                    shear_range=0.2,\n",
    "                                    rotation_range=2,\n",
    "                                    zoom_range=0.2,\n",
    "                                    horizontal_flip=True,\n",
    "                                    vertical_flip=True)\n",
    "\n",
    "training_set = train_data_gen.flow_from_directory(directory=\"../../Datasets/LungTumorData/train\",\n",
    "                                                  target_size=(224,224),\n",
    "                                                  class_mode='categorical',\n",
    "                                                  batch_size=32)\n",
    "num_classes = training_set.num_classes"
   ],
   "id": "982c5c4eba68ddd8",
   "outputs": [
    {
     "name": "stdout",
     "output_type": "stream",
     "text": [
      "Found 613 images belonging to 4 classes.\n"
     ]
    }
   ],
   "execution_count": 2
  },
  {
   "metadata": {
    "ExecuteTime": {
     "end_time": "2024-04-16T18:43:51.074778Z",
     "start_time": "2024-04-16T18:43:51.068346Z"
    }
   },
   "cell_type": "code",
   "source": "training_set.class_indices",
   "id": "766fc97d7fa7776a",
   "outputs": [
    {
     "data": {
      "text/plain": [
       "{'adenocarcinoma_left.lower.lobe_T2_N0_M0_Ib': 0,\n",
       " 'large.cell.carcinoma_left.hilum_T2_N2_M0_IIIa': 1,\n",
       " 'normal': 2,\n",
       " 'squamous.cell.carcinoma_left.hilum_T1_N2_M0_IIIa': 3}"
      ]
     },
     "execution_count": 3,
     "metadata": {},
     "output_type": "execute_result"
    }
   ],
   "execution_count": 3
  },
  {
   "metadata": {
    "ExecuteTime": {
     "end_time": "2024-04-16T18:43:51.078269Z",
     "start_time": "2024-04-16T18:43:51.075934Z"
    }
   },
   "cell_type": "code",
   "source": [
    "# def f1_score(y_true, y_pred):\n",
    "#     true_positives = K.sum(K.round(K.clip(y_true * y_pred, 0, 1)))\n",
    "#     possible_positives = K.sum(K.round(K.clip(y_true, 0, 1)))\n",
    "#     predicted_positives = K.sum(K.round(K.clip(y_pred, 0, 1)))\n",
    "#     precision = true_positives / (predicted_positives + K.epsilon())\n",
    "#     recall = true_positives / (possible_positives + K.epsilon())\n",
    "#     f1_val = 2*(precision*recall)/(precision+recall+K.epsilon())\n",
    "#     return f1_val\n"
   ],
   "id": "7963d8ad34a05c87",
   "outputs": [],
   "execution_count": 4
  },
  {
   "metadata": {
    "ExecuteTime": {
     "end_time": "2024-04-16T18:43:51.081929Z",
     "start_time": "2024-04-16T18:43:51.079377Z"
    }
   },
   "cell_type": "code",
   "source": [
    "# # loaded_model = load_model(\"../TumorSense_app/models/LungTumorModel.h5\", custom_objects={'f1_score': f1_score})\n",
    "# \n",
    "# with tf.keras.utils.custom_object_scope({'f1_score': f1_score}):\n",
    "#     loaded_model = load_model(\"../TumorSense_app/models/LungTumorModel.h5\")\n",
    "# \n",
    "# # Compile the model\n",
    "# loaded_model.compile(optimizer='Adam', loss='categorical_crossentropy', metrics=['accuracy', 'precision', 'recall', 'auc', f1_score])"
   ],
   "id": "18796aff46aa941d",
   "outputs": [],
   "execution_count": 5
  },
  {
   "metadata": {
    "ExecuteTime": {
     "end_time": "2024-04-16T18:43:51.085740Z",
     "start_time": "2024-04-16T18:43:51.083251Z"
    }
   },
   "cell_type": "code",
   "source": [
    "# test_image1 = load_img('../../Datasets/LungTumorData/valid/adenocarcinoma_left.lower.lobe_T2_N0_M0_Ib/000111 (2).png', target_size=(224,224))\n",
    "# test_image1_array = img_to_array(test_image1)\n",
    "# test_image1_array = test_image1_array.squeeze()  # Remove the first dimension\n",
    "# print(test_image1_array.shape)  # Ensure the shape is (224, 224, 3)\n",
    "# test_image1_array = np.expand_dims(test_image1_array, axis=0)  # Add batch dimension back\n",
    "# \n",
    "# result1 = np.argmax(loaded_model.predict(test_image1_array / 255.0), axis=1)\n",
    "# print(result1)"
   ],
   "id": "cf70ba0b79197f40",
   "outputs": [],
   "execution_count": 6
  },
  {
   "metadata": {
    "ExecuteTime": {
     "end_time": "2024-04-16T18:43:59.623770Z",
     "start_time": "2024-04-16T18:43:51.087057Z"
    }
   },
   "cell_type": "code",
   "source": [
    "loaded_model2 = load_model('/Users/abednashif/Desktop/my_best_model.epoch79-loss0.41.hdf5')\n",
    "loaded_model2.compile(optimizer='Adam', loss='categorical_crossentropy')"
   ],
   "id": "9c446fe8bc970fdf",
   "outputs": [],
   "execution_count": 7
  },
  {
   "metadata": {
    "ExecuteTime": {
     "end_time": "2024-04-16T18:44:05.788408Z",
     "start_time": "2024-04-16T18:43:59.625219Z"
    }
   },
   "cell_type": "code",
   "source": [
    "test_image1 = load_img('../../Datasets/LungTumorData/test/squamous.cell.carcinoma/000112.png', target_size=(255, 255))\n",
    "test_image1_array = img_to_array(test_image1)\n",
    "test_image1_resized = array_to_img(test_image1_array, scale=False)\n",
    "test_image1_resized = test_image1_resized.resize((255, 255))\n",
    "test_image1_array = img_to_array(test_image1_resized)\n",
    "test_image1_array = np.expand_dims(test_image1_array, axis=0)\n",
    "result1 = np.argmax(loaded_model2.predict(test_image1_array / 255.0), axis=1)\n",
    "print(result1)"
   ],
   "id": "873aa4da770ac26a",
   "outputs": [
    {
     "name": "stdout",
     "output_type": "stream",
     "text": [
      "1/1 [==============================] - 6s 6s/step\n",
      "[1]\n"
     ]
    }
   ],
   "execution_count": 8
  },
  {
   "metadata": {
    "ExecuteTime": {
     "end_time": "2024-04-16T18:44:05.791540Z",
     "start_time": "2024-04-16T18:44:05.789659Z"
    }
   },
   "cell_type": "code",
   "source": "",
   "id": "a61d0cbb4eea869b",
   "outputs": [],
   "execution_count": 8
  }
 ],
 "metadata": {
  "kernelspec": {
   "display_name": "Python 3",
   "language": "python",
   "name": "python3"
  },
  "language_info": {
   "codemirror_mode": {
    "name": "ipython",
    "version": 2
   },
   "file_extension": ".py",
   "mimetype": "text/x-python",
   "name": "python",
   "nbconvert_exporter": "python",
   "pygments_lexer": "ipython2",
   "version": "2.7.6"
  }
 },
 "nbformat": 4,
 "nbformat_minor": 5
}
