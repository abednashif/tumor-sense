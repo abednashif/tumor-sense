{
 "cells": [
  {
   "cell_type": "code",
   "id": "initial_id",
   "metadata": {
    "collapsed": true,
    "ExecuteTime": {
     "end_time": "2024-04-15T16:48:14.858537Z",
     "start_time": "2024-04-15T16:48:09.999249Z"
    }
   },
   "source": [
    "import os\n",
    "os.environ['TF_CPP_MIN_LOG_LEVEL'] = '2'\n",
    "# libraries that are generally imported for any deep learning model\n",
    "import numpy as np\n",
    "import pandas as pd\n",
    "import matplotlib.pyplot as plt\n",
    "import tensorflow as tf\n",
    "import seaborn as sns\n",
    "from sklearn.metrics import confusion_matrix\n",
    "\n",
    "# libraries need to prepare the data\n",
    "from tensorflow.keras.preprocessing import image\n",
    "from tensorflow.keras.preprocessing.image import ImageDataGenerator\n",
    "from tensorflow.keras.utils import load_img\n",
    "from tensorflow.keras.utils import img_to_array\n",
    "\n",
    "# libraries required to build the model\n",
    "from tensorflow.keras.models import Sequential\n",
    "from tensorflow.keras.layers import Conv2D\n",
    "from tensorflow.keras.layers import MaxPool2D\n",
    "from tensorflow.keras.layers import MaxPooling2D\n",
    "from tensorflow.keras.layers import Flatten\n",
    "from tensorflow.keras.layers import Dense\n",
    "from tensorflow.keras.layers import Dropout\n",
    "from tensorflow.keras.utils import plot_model\n",
    "from tensorflow.keras.models import load_model\n",
    "\n",
    "# libraries for activation functions required\n",
    "from tensorflow.keras.activations import relu, softmax\n",
    "\n",
    "# weight initializer libraries\n",
    "from tensorflow.keras.initializers import HeNormal\n",
    "from tensorflow.keras.initializers import HeUniform\n",
    "\n",
    "# optimizer library\n",
    "from tensorflow.keras.optimizers import Adam\n",
    "\n",
    "# callback library\n",
    "from tensorflow.keras.callbacks import EarlyStopping"
   ],
   "outputs": [],
   "execution_count": 1
  },
  {
   "metadata": {
    "ExecuteTime": {
     "end_time": "2024-04-15T16:48:14.863419Z",
     "start_time": "2024-04-15T16:48:14.860470Z"
    }
   },
   "cell_type": "code",
   "source": [
    "# setting the random seed to generalize the output\n",
    "# the seed value is used to generate the random number generator. \n",
    "# And, every time you use the same seed value, you will get the same random values.\n",
    "\n",
    "# setting random seed in numpy\n",
    "from numpy.random import seed\n",
    "seed(1)\n",
    "\n",
    "# setting random seed in tensorflow\n",
    "tf.random.set_seed(2) "
   ],
   "id": "d99d1c9f30a7bdd2",
   "outputs": [],
   "execution_count": 2
  },
  {
   "metadata": {
    "ExecuteTime": {
     "end_time": "2024-04-15T16:48:17.340593Z",
     "start_time": "2024-04-15T16:48:17.032350Z"
    }
   },
   "cell_type": "code",
   "source": [
    "train_data_gen = ImageDataGenerator(rescale=1./255,\n",
    "                                    shear_range=0.2,\n",
    "                                    rotation_range=2,\n",
    "                                    zoom_range=0.2,\n",
    "                                    horizontal_flip=True,\n",
    "                                    vertical_flip=True)\n",
    "\n",
    "training_set = train_data_gen.flow_from_directory(directory=\"../../Datasets/BrainTumorSplitData_images/Training\",\n",
    "                                                  target_size=(224,224),\n",
    "                                                  class_mode='categorical',\n",
    "                                                  batch_size=32)"
   ],
   "id": "fd32ee6f6e2c01a2",
   "outputs": [
    {
     "name": "stdout",
     "output_type": "stream",
     "text": [
      "Found 8205 images belonging to 4 classes.\n"
     ]
    }
   ],
   "execution_count": 3
  },
  {
   "metadata": {
    "ExecuteTime": {
     "end_time": "2024-04-15T16:48:17.564693Z",
     "start_time": "2024-04-15T16:48:17.485684Z"
    }
   },
   "cell_type": "code",
   "source": [
    "validation_data_gen = ImageDataGenerator(rescale=1./255)\n",
    "\n",
    "validation_set = validation_data_gen.flow_from_directory(directory=\"../../Datasets/BrainTumorSplitData_images/Testing\",\n",
    "                                                        target_size=(224,224),\n",
    "                                                        class_mode='categorical',\n",
    "                                                        batch_size=32)"
   ],
   "id": "3f577b5f255cad30",
   "outputs": [
    {
     "name": "stdout",
     "output_type": "stream",
     "text": [
      "Found 1705 images belonging to 4 classes.\n"
     ]
    }
   ],
   "execution_count": 4
  },
  {
   "metadata": {
    "ExecuteTime": {
     "end_time": "2024-04-15T16:58:01.084353Z",
     "start_time": "2024-04-15T16:58:00.540174Z"
    }
   },
   "cell_type": "code",
   "source": "loaded = load_model('../TumorSense_app/fine_tuned_model.h5')\n",
   "id": "eec2915e9a4308da",
   "outputs": [],
   "execution_count": 9
  },
  {
   "metadata": {
    "ExecuteTime": {
     "end_time": "2024-04-15T16:58:01.090297Z",
     "start_time": "2024-04-15T16:58:01.085868Z"
    }
   },
   "cell_type": "code",
   "source": [
    "index = ['glioma','meningioma','notumor','pituitary']\n",
    "\n",
    "def test_model(model):\n",
    "    test_dataset_dir = '../../Datasets/BrainTumorSplitData_images/Testing'\n",
    "\n",
    "    test_images = []\n",
    "    test_labels = []\n",
    "    \n",
    "    for class_name in index:\n",
    "        class_dir = os.path.join(test_dataset_dir, class_name)\n",
    "        for image_name in os.listdir(class_dir):\n",
    "            image_path = os.path.join(class_dir, image_name)\n",
    "            test_image = load_img(image_path, target_size=(224, 224))\n",
    "            test_image = img_to_array(test_image) / 255.0\n",
    "            test_images.append(test_image)\n",
    "            test_labels.append(class_name)\n",
    "    \n",
    "    test_images = np.array(test_images)\n",
    "    test_labels = np.array(test_labels)\n",
    "    \n",
    "    predictions = model.predict(test_images)\n",
    "    \n",
    "    predicted_labels = [index[np.argmax(prediction)] for prediction in predictions]\n",
    "    \n",
    "    accuracy = np.mean(predicted_labels == test_labels)\n",
    "    print(f\"Accuracy: {accuracy*100}%\")\n"
   ],
   "id": "21fb26faf2b50015",
   "outputs": [],
   "execution_count": 10
  },
  {
   "metadata": {
    "ExecuteTime": {
     "end_time": "2024-04-15T16:58:09.286988Z",
     "start_time": "2024-04-15T16:58:01.447887Z"
    }
   },
   "cell_type": "code",
   "source": "test_model(loaded)",
   "id": "835ebcf30be9833c",
   "outputs": [
    {
     "name": "stdout",
     "output_type": "stream",
     "text": [
      "54/54 [==============================] - 3s 45ms/step\n",
      "Accuracy: 88.97360703812318%\n"
     ]
    }
   ],
   "execution_count": 11
  },
  {
   "metadata": {},
   "cell_type": "code",
   "outputs": [],
   "execution_count": null,
   "source": "",
   "id": "51d7edd7f0e5691"
  },
  {
   "metadata": {
    "ExecuteTime": {
     "end_time": "2024-04-16T20:30:14.243684Z",
     "start_time": "2024-04-16T20:30:13.614884Z"
    }
   },
   "cell_type": "code",
   "source": [
    "loaded1 = load_model('../TumorSense_app/models/fine_tuned_model.h5')\n",
    "loaded1.compile(optimizer=Adam(), loss='categorical_crossentropy', metrics=['accuracy'])"
   ],
   "id": "44acb701578bb361",
   "outputs": [],
   "execution_count": 14
  },
  {
   "metadata": {
    "ExecuteTime": {
     "end_time": "2024-04-16T20:33:42.601078Z",
     "start_time": "2024-04-16T20:33:42.524114Z"
    }
   },
   "cell_type": "code",
   "source": [
    "index = ['glioma','meningioma','normal','adenoma']\n",
    "\n",
    "test_image1 = load_img('../testing_dataset_limited/adenoma/Te-pi_0010.jpg',target_size = (224,224))\n",
    "\n",
    "test_image1 = img_to_array(test_image1)\n",
    "test_image1 = np.expand_dims(test_image1,axis=0)\n",
    "result1 = np.argmax(loaded1.predict(test_image1/255.0),axis=1)\n",
    "print(index[result1[0]])"
   ],
   "id": "ab683d4edbefb64c",
   "outputs": [
    {
     "name": "stdout",
     "output_type": "stream",
     "text": [
      "1/1 [==============================] - 0s 21ms/step\n",
      "adenoma\n"
     ]
    }
   ],
   "execution_count": 17
  },
  {
   "metadata": {},
   "cell_type": "code",
   "outputs": [],
   "execution_count": null,
   "source": "",
   "id": "8eaab44dcb09a2c8"
  }
 ],
 "metadata": {
  "kernelspec": {
   "display_name": "Python 3",
   "language": "python",
   "name": "python3"
  },
  "language_info": {
   "codemirror_mode": {
    "name": "ipython",
    "version": 2
   },
   "file_extension": ".py",
   "mimetype": "text/x-python",
   "name": "python",
   "nbconvert_exporter": "python",
   "pygments_lexer": "ipython2",
   "version": "2.7.6"
  }
 },
 "nbformat": 4,
 "nbformat_minor": 5
}
